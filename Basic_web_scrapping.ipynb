{
  "nbformat": 4,
  "nbformat_minor": 0,
  "metadata": {
    "colab": {
      "provenance": [],
      "authorship_tag": "ABX9TyN1v/GE8hVcWd4tP70iruoL",
      "include_colab_link": true
    },
    "kernelspec": {
      "name": "python3",
      "display_name": "Python 3"
    },
    "language_info": {
      "name": "python"
    }
  },
  "cells": [
    {
      "cell_type": "markdown",
      "metadata": {
        "id": "view-in-github",
        "colab_type": "text"
      },
      "source": [
        "<a href=\"https://colab.research.google.com/github/Shubhamdiwakarkadam/web-scrapping-project/blob/main/Basic_web_scrapping.ipynb\" target=\"_parent\"><img src=\"https://colab.research.google.com/assets/colab-badge.svg\" alt=\"Open In Colab\"/></a>"
      ]
    },
    {
      "cell_type": "code",
      "execution_count": 11,
      "metadata": {
        "colab": {
          "base_uri": "https://localhost:8080/"
        },
        "id": "v2wKh2x1z9nc",
        "outputId": "5f3156a9-7e1f-4c1a-c490-a9e046e8e311"
      },
      "outputs": [
        {
          "output_type": "stream",
          "name": "stdout",
          "text": [
            "Nokia 123\n",
            "LG Optimus\n",
            "Samsung Galaxy\n",
            "Nokia X\n",
            "Sony Xperia\n",
            "Ubuntu Edge\n",
            "Iphone\n",
            "Iphone\n",
            "Iphone\n",
            "$24.99\n",
            "$57.99\n",
            "$93.99\n",
            "$109.99\n",
            "$118.99\n",
            "$499.99\n",
            "$899.99\n",
            "$899.99\n",
            "$899.99\n"
          ]
        }
      ],
      "source": [
        "import requests\n",
        "from bs4 import BeautifulSoup\n",
        "\n",
        "url=\"https://webscraper.io/test-sites/e-commerce/allinone/phones/touch\"\n",
        "r = requests.get(url)\n",
        "#print(r)\n",
        "\n",
        "soup =BeautifulSoup(r.text, \"lxml\")\n",
        "#print(soup)\n",
        "\n",
        "boxes= soup.find_all(\"div\", class_= \"col-md-4 col-xl-4 col-lg-4\")\n",
        "#print(len(boxes))\n",
        "\n",
        "names= soup.find_all(\"a\", class_= \"title\")\n",
        "#print(names)\n",
        "\n",
        "for i in names:\n",
        "  print(i.text)\n",
        "\n",
        "prices = soup.find_all(\"h4\", class_= \"float-end price card-title pull-right\")\n",
        "#print(prices)\n",
        "\n",
        "for i in prices:\n",
        "  print(i.text)\n",
        "\n",
        "\n",
        "\n",
        "\n"
      ]
    }
  ]
}