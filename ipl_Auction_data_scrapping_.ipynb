{
  "nbformat": 4,
  "nbformat_minor": 0,
  "metadata": {
    "colab": {
      "provenance": [],
      "include_colab_link": true
    },
    "kernelspec": {
      "name": "python3",
      "display_name": "Python 3"
    },
    "language_info": {
      "name": "python"
    }
  },
  "cells": [
    {
      "cell_type": "markdown",
      "metadata": {
        "id": "view-in-github",
        "colab_type": "text"
      },
      "source": [
        "<a href=\"https://colab.research.google.com/github/Shubhamdiwakarkadam/web-scrapping-project/blob/main/ipl_Auction_data_scrapping_.ipynb\" target=\"_parent\"><img src=\"https://colab.research.google.com/assets/colab-badge.svg\" alt=\"Open In Colab\"/></a>"
      ]
    },
    {
      "cell_type": "code",
      "execution_count": 20,
      "metadata": {
        "colab": {
          "base_uri": "https://localhost:8080/"
        },
        "id": "3ka-QP8AfZLW",
        "outputId": "37ff9971-2091-42d4-ed46-4bb3ef9b5ff1"
      },
      "outputs": [
        {
          "output_type": "stream",
          "name": "stdout",
          "text": [
            "[<th class=\"skip-filter\" style=\"width:25%;text-align: left;\">TEAM</th>, <th class=\"skip-filter\" style=\"width:25%;\">FUNDS REMAINING</th>, <th class=\"skip-filter\" style=\"width:25%;\">OVERSEAS PLAYERS </th>, <th class=\"skip-filter\" style=\"width:25%;\">TOTAL PLAYERS</th>]\n",
            "                          TEAM FUNDS REMAINING OVERSEAS PLAYERS  TOTAL PLAYERS\n",
            "0          Chennai Super Kings    ₹1,00,00,000                 8            25\n",
            "1               Delhi Capitals    ₹9,90,00,000                 8            25\n",
            "2               Gujarat Titans    ₹7,85,00,000                 8            25\n",
            "3        Kolkata Knight Riders    ₹1,35,00,000                 8            23\n",
            "4         Lucknow Super Giants      ₹95,00,000                 8            25\n",
            "5               Mumbai Indians    ₹1,05,00,000                 8            25\n",
            "6                 Punjab Kings    ₹4,15,00,000                 8            25\n",
            "7             Rajasthan Royals      ₹20,00,000                 8            22\n",
            "8  Royal Challengers Bangalore    ₹2,85,00,000                 8            25\n",
            "9          Sunrisers Hyderabad    ₹3,20,00,000                 8            25\n"
          ]
        }
      ],
      "source": [
        "# Importing necessary libraries\n",
        "import requests\n",
        "import pandas as pd\n",
        "from bs4 import BeautifulSoup\n",
        "\n",
        "# Defining the URL to scrape\n",
        "url = \"https://www.iplt20.com/auction\"\n",
        "\n",
        "# Sending a GET request to the URL\n",
        "r = requests.get(url)\n",
        "#print(r)\n",
        "\n",
        "# Creating a BeautifulSoup object to parse the HTML content\n",
        "soup = BeautifulSoup(r.text, \"lxml\")\n",
        "#print(soup)\n",
        "\n",
        "# Finding the table containing the auction data\n",
        "table = soup.find(\"table\", class_=\"ih-td-tab auction-tbl\")\n",
        "# Finding all the table headers (column names)\n",
        "title = table.find_all(\"th\")\n",
        "print(title)\n",
        "\n",
        "# Storing the column names in a list called 'header'\n",
        "header = []\n",
        "for i in title:\n",
        "    name = i.text\n",
        "    header.append(name)\n",
        "#print(header)\n",
        "\n",
        "# Creating an empty DataFrame with column names\n",
        "df = pd.DataFrame(columns=header)\n",
        "#print(df)\n",
        "\n",
        "# Finding all the rows in the table\n",
        "rows = table.find_all(\"tr\")\n",
        "#print(row )\n",
        "\n",
        "# Iterating through each row, extracting data, and adding it to the DataFrame\n",
        "for i in rows[1:]:\n",
        "    # Extracting the first column data which is stored in a div with class \"ih-pt-ic\"\n",
        "    first_td = i.find_all(\"td\")[0].find(\"div\", class_=\"ih-pt-ic\").text.strip()\n",
        "    # Extracting data from the rest of the columns\n",
        "    data = i.find_all(\"td\")[1:]\n",
        "    # Creating a list 'row' containing data for each row\n",
        "    row = [tr.text for tr in data]\n",
        "    # Inserting the first column data at the beginning of the row\n",
        "    row.insert(0, first_td)\n",
        "    # Getting the current length of the DataFrame and adding the row\n",
        "    l = len(df)\n",
        "    df.loc[l] = row\n",
        "print(df)\n",
        "\n",
        "# Saving the DataFrame to a CSV file\n",
        "df.to_csv(\"ipl auction stats new.csv\")\n"
      ]
    }
  ]
}